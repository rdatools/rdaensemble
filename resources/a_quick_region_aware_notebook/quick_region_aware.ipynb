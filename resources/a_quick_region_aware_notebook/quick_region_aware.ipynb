{
 "cells": [
  {
   "cell_type": "markdown",
   "metadata": {},
   "source": [
    "# A Notebook for Region Aware Testing\n",
    "\n",
    "The purpose of this notebook is to provide a way to do some preliminary region-aware MCMC work. Within\n",
    "this notebook, there are some custom methods, called `weighted_spanning_tree`, \n",
    "`bipartition_weighted_tree_bounded_repeats`, and `weighted_recom_with_self_loops` which modify the \n",
    "standard methods present within `gerrychain` to allow for the addition of region aware methods."
   ]
  },
  {
   "cell_type": "code",
   "execution_count": 1,
   "metadata": {},
   "outputs": [],
   "source": [
    "import matplotlib.pyplot as plt\n",
    "import matplotlib.cm as mcm\n",
    "import pandas as pd\n",
    "import geopandas as gpd\n",
    "import numpy as np\n",
    "import networkx as nx\n",
    "from networkx.algorithms import tree\n",
    "import random\n",
    "from functools import partial\n",
    "\n",
    "from gerrychain import Graph, Partition, Election\n",
    "from gerrychain.updaters import Tally, cut_edges\n",
    "from gerrychain.constraints import contiguous\n",
    "from gerrychain.accept import always_accept\n",
    "from gerrychain import (GeographicPartition, Partition, Graph, MarkovChain,\n",
    "                        proposals, updaters, constraints, accept, Election)\n",
    "from gerrychain.tree import (recursive_tree_part, BalanceError, PopulatedGraph,\n",
    "                             find_balanced_edge_cuts_memoization)\n",
    "\n",
    "random.seed(2023)"
   ]
  },
  {
   "cell_type": "markdown",
   "metadata": {},
   "source": [
    "### Modified functions\n",
    "\n",
    "These are the functions that needed ot be modified to make region-aware possible.\n",
    "The reader may compare them to the original versions of the functions found within\n",
    "`gerrychain` package. The source code for that package is available \n",
    "[here](https://github.com/mggg/GerryChain). The functions to compare these to \n",
    "can mainly be found within the files `tree.py` (`random_spanning_tree`, `bipartition_tree`)\n",
    "and `tree_proposal.py` (`recom`)"
   ]
  },
  {
   "cell_type": "code",
   "execution_count": 2,
   "metadata": {},
   "outputs": [],
   "source": [
    "def weighted_spanning_tree(graph, weight_dict):\n",
    "    \"\"\"\n",
    "    Calculates the weighted spanning tree of a graph using the given weight dictionary.\n",
    "    \n",
    "    Parameters:\n",
    "        graph (networkx.Graph): The input graph.\n",
    "        weight_dict (dict): A dictionary containing weights for different attributes of the graph nodes.\n",
    "    \n",
    "    Note: The weight_dict should be of the form {attribute: weight} where attribute is a column in the graph's nodes and weight is a float between 0 and 1.0. Weights are additive for edges belonging to multiple categories,\n",
    "        \n",
    "    Returns:\n",
    "        networkx.Graph: The weighted spanning tree of the input graph.\n",
    "    \"\"\"\n",
    "    \n",
    "    for edge in graph.edges():\n",
    "        weight = random.random()\n",
    "        \n",
    "        for key, value in weight_dict.items():\n",
    "            if graph.nodes[edge[0]][key] == graph.nodes[edge[1]][key] and graph.nodes[edge[0]][key] is not None:\n",
    "                weight += value\n",
    "        \n",
    "        graph.edges[edge][\"edge_weight\"] = weight\n",
    "    \n",
    "    spanning_tree = nx.tree.maximum_spanning_tree(graph.copy(), algorithm=\"kruskal\", weight= \"edge_weight\")\n",
    "    return spanning_tree\n",
    "\n",
    "\n",
    "\n",
    "\n",
    "def bipartition_weighted_tree_bounded_repeats(\n",
    "    graph, \n",
    "    pop_col, \n",
    "    pop_target, \n",
    "    epsilon, \n",
    "    weight_dict,\n",
    "    node_repeats=10, \n",
    "    spanning_tree=None, \n",
    "    choice=random.choice,\n",
    "    repeats = 100\n",
    "):\n",
    "    \"\"\"\n",
    "    Finds a balanced cut in a weighted tree graph using bounded repeats.\n",
    "\n",
    "    Args:\n",
    "        graph (Graph): The input graph.\n",
    "        pop_col (str): The column name representing the population attribute of each node.\n",
    "        pop_target (float): The target population for each partition.\n",
    "        epsilon (float): The maximum allowed deviation from the target population.\n",
    "        weight_dict (dict): A dictionary mapping edges to their weights.\n",
    "        node_repeats (int, optional): The number of times to restart the algorithm if no balanced cut is found. Defaults to 10.\n",
    "        spanning_tree (Graph, optional): The spanning tree of the input graph. If not provided, it will be computed. Defaults to None.\n",
    "        choice (function, optional): The function used for random choice. Defaults to random.choice.\n",
    "        repeats (int, optional): The number of repeats to perform. Defaults to 100.\n",
    "\n",
    "    Returns:\n",
    "        set: A set of nodes representing a balanced cut, or None if no balanced cut is found.\n",
    "    \"\"\"\n",
    "    populations = {node: graph.nodes[node][pop_col] for node in graph}\n",
    "    possible_cuts = []\n",
    "    if spanning_tree is None:\n",
    "        spanning_tree = weighted_spanning_tree(graph, weight_dict)\n",
    "    restarts = 0\n",
    "    for _ in range(repeats):\n",
    "        if len(possible_cuts) > 0:\n",
    "            return choice(possible_cuts).subset\n",
    "        if restarts == node_repeats:\n",
    "            spanning_tree = weighted_spanning_tree(graph, weight_dict)\n",
    "            restarts = 0\n",
    "        h = PopulatedGraph(spanning_tree, populations, pop_target, epsilon)\n",
    "        possible_cuts = find_balanced_edge_cuts_memoization(h, choice=choice)\n",
    "        restarts += 1\n",
    "    return None   # failed to find a balanced cut after repeats\n",
    "\n",
    "\n",
    "\n",
    "def weighted_recom_with_self_loops(\n",
    "    partition, pop_col, pop_target, epsilon, \n",
    "    weight_dict = {}, \n",
    "    node_repeats=1, method=bipartition_weighted_tree_bounded_repeats\n",
    "):\n",
    "    \"\"\"\n",
    "    Performs a weighted recom with self-loops on a given partition.\n",
    "\n",
    "    Args:\n",
    "        partition (Partition): The partition object representing the current state.\n",
    "        pop_col (str): The name of the column containing population data.\n",
    "        pop_target (float): The target population for each district.\n",
    "        epsilon (float): The allowable deviation from the target population.\n",
    "        weight_dict (dict): A dictionary containing the weights for each edge in the graph.\n",
    "        node_repeats (int, optional): The number of times to repeat the node balancing step. Defaults to 1.\n",
    "        method (function, optional): The method to use for bipartitioning the graph. Defaults to bipartition_weighted_tree_bounded_repeats.\n",
    "\n",
    "    Returns:\n",
    "        Partition: The updated partition object after performing the weighted recom with self-loops.\n",
    "    \"\"\"\n",
    "    \n",
    "    # Picks a random district pair to merge\n",
    "    edge = random.choice(tuple(partition[\"cut_edges\"]))\n",
    "    parts_to_merge = (partition.assignment[edge[0]], partition.assignment[edge[1]])\n",
    "\n",
    "    subgraph = partition.graph.subgraph(\n",
    "        partition.parts[parts_to_merge[0]] | partition.parts[parts_to_merge[1]]\n",
    "    )\n",
    "\n",
    "    try:\n",
    "        flips = recursive_tree_part(\n",
    "            subgraph,\n",
    "            parts_to_merge,\n",
    "            pop_col=pop_col,\n",
    "            pop_target=pop_target,\n",
    "            epsilon=epsilon,\n",
    "            node_repeats=node_repeats,\n",
    "            method=partial(method, weight_dict=weight_dict),\n",
    "        )\n",
    "    except BalanceError:\n",
    "        flips = {}\n",
    "        \n",
    "    return partition.flip(flips)\n",
    "\n"
   ]
  },
  {
   "cell_type": "markdown",
   "metadata": {},
   "source": [
    "### Start of example"
   ]
  },
  {
   "cell_type": "code",
   "execution_count": 3,
   "metadata": {},
   "outputs": [],
   "source": [
    "graph = Graph.from_json(\"8x8_with_muni.json\")"
   ]
  },
  {
   "cell_type": "markdown",
   "metadata": {},
   "source": [
    "### Setting the Parameters\n",
    "\n",
    "The following cell contains the parameters for region aware. The main thing \n",
    "that controls the regions is the weight dictionary. When creating new districts, \n",
    "`gerrychain` creates a random maximal spanning tree using Kruskal's algorithm.\n",
    "The vanilla version of gerrychain just assigns a random number between 0 and 1\n",
    "to each edge of the graph and then applies Kruskal, but in the region-aware \n",
    "version, we upweight the edges according to a dictionary of regions and \n",
    "the value by which we wish to upweight the edge. So an example dictionary might \n",
    "look something like\n",
    "\n",
    "```\n",
    "my_weights = {region_label_1: region_wgt_1, ... , region_label_k: region_wgt_k}\n",
    "```\n",
    "\n",
    "By upweighting edges that are within a particular region, edges interior to that \n",
    "region tend to be selected first. Then when we attempt to pick a balanced edge \n",
    "to cut at, the edges that lie between regions are more likely to be picked since \n",
    "the regions themselves will act as population clusters that are more difficult \n",
    "to split.\n",
    "\n",
    "As a note, since we start by assigning a random weight in $[0,1]$ to the edges,\n",
    "it is not generally necessary to assign weights to regions above the value of $1.0$\n",
    "(though, there can be situations where this is warranted). Also, weights are additive,\n",
    "so if some adjacent nodes $N_1$ and $N_2$ belong to two regions $R_1$ and $R_2$ \n",
    "with weights $w_1$ and $w_2$, then the edge $(N_1,N_2)$ will be upweighted by \n",
    "$w_1 + w_2$. Thus, it is generally recommended that weights for overlapping \n",
    "regions do not add up to more than $1.0$."
   ]
  },
  {
   "cell_type": "code",
   "execution_count": 4,
   "metadata": {},
   "outputs": [],
   "source": [
    "num_districts = 8\n",
    "pop_bound = 0.025\n",
    "\n",
    "num_steps = 5000\n",
    "\n",
    "population_col = \"TOTPOP\" \n",
    "\n",
    "my_weights = {\"county\": 0.0, \n",
    "              \"muni\": 1.0}"
   ]
  },
  {
   "cell_type": "code",
   "execution_count": 5,
   "metadata": {},
   "outputs": [],
   "source": [
    "my_updaters = {\"population\": updaters.Tally(population_col, alias=\"population\"),\n",
    "               \"cut_edges\": cut_edges}\n",
    "\n",
    "initial_partition = Partition(graph,\n",
    "                              assignment=\"district\",\n",
    "                              updaters=my_updaters,\n",
    ")\n",
    "ideal_pop = sum(initial_partition[\"population\"].values())/len(initial_partition)"
   ]
  },
  {
   "cell_type": "code",
   "execution_count": 6,
   "metadata": {},
   "outputs": [],
   "source": [
    "weighted_proposal = partial(weighted_recom_with_self_loops,\n",
    "                            pop_col=population_col,\n",
    "                            pop_target=ideal_pop,\n",
    "                            epsilon=pop_bound,\n",
    "                            weight_dict=my_weights,\n",
    "                            node_repeats=10,\n",
    "                            method=bipartition_weighted_tree_bounded_repeats)\n",
    "\n",
    "\n",
    "weighted_chain = MarkovChain(proposal=weighted_proposal,\n",
    "                             constraints=[contiguous],\n",
    "                             accept=accept.always_accept,\n",
    "                             initial_state=initial_partition,\n",
    "                             total_steps=num_steps)"
   ]
  },
  {
   "cell_type": "code",
   "execution_count": 7,
   "metadata": {},
   "outputs": [
    {
     "name": "stdout",
     "output_type": "stream",
     "text": [
      "5000/5000\r"
     ]
    }
   ],
   "source": [
    "end_assign = {}\n",
    "\n",
    "for i, item in enumerate(weighted_chain):\n",
    "    print(f\"{i+1}/{num_steps}\", end='\\r') # This just allows for monitoring of the number of steps\n",
    "    end_assign = dict(item.assignment)\n",
    "    "
   ]
  },
  {
   "cell_type": "markdown",
   "metadata": {},
   "source": [
    "### Note on the Graph\n",
    "\n",
    "Compare the following graph to the included png files that show that municipalities \n",
    "and the counties. It would be good to play with different weights in the `my_weights` \n",
    "dict and see how the resulting districts fit to the underlying structure."
   ]
  },
  {
   "cell_type": "code",
   "execution_count": 8,
   "metadata": {},
   "outputs": [
    {
     "data": {
      "image/png": "[encoded data removed]",
      "text/plain": [
       "<Figure size 1000x1000 with 1 Axes>"
      ]
     },
     "metadata": {},
     "output_type": "display_data"
    }
   ],
   "source": [
    "plt.figure(figsize=(10,10))\n",
    "\n",
    "\n",
    "pos = {node :(data['x'],data['y']) for node, data in graph.nodes(data=True)}  # positions for all nodes\n",
    "# node_colors = [mcm.tab20(int(data['county'])%20) for node, data in graph.nodes(data=True) ]\n",
    "# node_colors = [mcm.tab20(int(data['district'])%20) for node, data in graph.nodes(data=True) ]\n",
    "# node_colors = [mcm.inferno(data['precinct']/9.0) for node, data in graph.nodes(data=True) ]\n",
    "# node_colors = [mcm.tab20(int(data['muni'])%20) for node, data in graph.nodes(data=True) ]\n",
    "node_colors = [mcm.tab20(int(value)%20) for key,value in end_assign.items()]\n",
    "\n",
    "# node_labels = {node: str(data['county']) for node, data in graph.nodes(data=True)}\n",
    "# node_labels = {node: str(data['district']) for node, data in graph.nodes(data=True)}\n",
    "# node_labels = {node: str(data['precinct']) for node, data in graph.nodes(data=True)}\n",
    "# node_labels = {node: str(data['muni']) for node, data in graph.nodes(data=True)}\n",
    "node_labels = end_assign\n",
    "\n",
    "nx.draw_networkx_nodes(graph, pos, node_color=node_colors)\n",
    "nx.draw_networkx_edges(graph, pos)\n",
    "\n",
    "nx.draw_networkx_labels(graph, pos, labels=node_labels)\n",
    "plt.axis('off')\n",
    "plt.show()"
   ]
  },
  {
   "cell_type": "code",
   "execution_count": null,
   "metadata": {},
   "outputs": [],
   "source": []
  }
 ],
 "metadata": {
  "kernelspec": {
   "display_name": "Python 3",
   "language": "python",
   "name": "python3"
  },
  "language_info": {
   "codemirror_mode": {
    "name": "ipython",
    "version": 3
   },
   "file_extension": ".py",
   "mimetype": "text/x-python",
   "name": "python",
   "nbconvert_exporter": "python",
   "pygments_lexer": "ipython3",
   "version": "3.11.6"
  }
 },
 "nbformat": 4,
 "nbformat_minor": 2
}
